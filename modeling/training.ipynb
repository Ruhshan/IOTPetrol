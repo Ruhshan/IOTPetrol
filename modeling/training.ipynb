{
 "cells": [
  {
   "cell_type": "code",
   "execution_count": 9,
   "metadata": {
    "collapsed": true
   },
   "outputs": [],
   "source": [
    "import numpy as np # linear algebra\n",
    "import pandas as pd\n",
    "import os\n"
   ]
  },
  {
   "cell_type": "code",
   "execution_count": 10,
   "metadata": {
    "collapsed": true
   },
   "outputs": [],
   "source": [
    "from tensorflow.python.keras.applications import ResNet50 # pretrained resnet50 model\n",
    "from tensorflow.python.keras.models import Sequential \n",
    "from tensorflow.python.keras.layers import Dense, Flatten, GlobalAveragePooling2D\n",
    "\n",
    "num_classes = 10\n",
    "resnet_weights_path = 'data/resnet50_weights_tf_dim_ordering_tf_kernels_notop.h5'\n",
    "\n",
    "my_new_model = Sequential() \n",
    "my_new_model.add(ResNet50(include_top=False,\n",
    "                          pooling='avg', \n",
    "                          weights=resnet_weights_path))\n",
    "# my_new_model.add(Flatten())\n",
    "# my_new_model.add(Dense(300, activation='relu'))\n",
    "my_new_model.add(Dense(num_classes, activation='softmax'))\n",
    "my_new_model.layers[0].trainable = False # use pretrained resnet50 model"
   ]
  },
  {
   "cell_type": "code",
   "execution_count": 11,
   "metadata": {
    "collapsed": true
   },
   "outputs": [],
   "source": [
    "from tensorflow.python.keras import optimizers\n",
    "optmizer_adam = optimizers.Adam(lr=0.01,)\n",
    "my_new_model.compile(optimizer='adam', \n",
    "                     loss='categorical_crossentropy', \n",
    "                     metrics=['accuracy'])"
   ]
  },
  {
   "cell_type": "code",
   "execution_count": 12,
   "metadata": {},
   "outputs": [
    {
     "name": "stdout",
     "output_type": "stream",
     "text": [
      "Found 1886 images belonging to 10 classes.\n",
      "Found 200 images belonging to 10 classes.\n",
      "Epoch 1/4\n",
      "82/82 [==============================] - 348s 4s/step - loss: 0.8555 - acc: 0.7778 - val_loss: 2.6181 - val_acc: 0.1250\n",
      "Epoch 2/4\n",
      "82/82 [==============================] - 352s 4s/step - loss: 0.2352 - acc: 0.9761 - val_loss: 2.9029 - val_acc: 0.1250\n",
      "Epoch 3/4\n",
      "82/82 [==============================] - 362s 4s/step - loss: 0.1330 - acc: 0.9926 - val_loss: 2.9250 - val_acc: 0.1250\n",
      "Epoch 4/4\n",
      "82/82 [==============================] - 345s 4s/step - loss: 0.0957 - acc: 0.9910 - val_loss: 2.9702 - val_acc: 0.1250\n"
     ]
    },
    {
     "data": {
      "text/plain": [
       "<tensorflow.python.keras._impl.keras.callbacks.History at 0x7f2d3f5b56d8>"
      ]
     },
     "execution_count": 12,
     "metadata": {},
     "output_type": "execute_result"
    }
   ],
   "source": [
    "from tensorflow.python.keras.applications.resnet50 import preprocess_input\n",
    "from tensorflow.python.keras.preprocessing.image import ImageDataGenerator\n",
    "\n",
    "image_size = 224\n",
    "data_generator = ImageDataGenerator()\n",
    "train_data = 'data/train' # 2726 images\n",
    "valid_data = 'data/valid' # 300 images\n",
    "\n",
    "train_generator = data_generator.flow_from_directory(\n",
    "       directory = train_data,\n",
    "       target_size=(image_size, image_size),\n",
    "       batch_size= 23, \n",
    "       class_mode='categorical')\n",
    "\n",
    "validation_generator = data_generator.flow_from_directory(\n",
    "       directory = valid_data,\n",
    "       target_size=(image_size, image_size),\n",
    "       class_mode='categorical')\n",
    "\n",
    "my_new_model.fit_generator(\n",
    "       train_generator,\n",
    "       steps_per_epoch=82, # trainingsamples/batchsize \n",
    "       validation_data=validation_generator,\n",
    "       validation_steps=1,\n",
    "        epochs=4)"
   ]
  }
 ],
 "metadata": {
  "kernelspec": {
   "display_name": "Python 3",
   "language": "python",
   "name": "python3"
  },
  "language_info": {
   "codemirror_mode": {
    "name": "ipython",
    "version": 3
   },
   "file_extension": ".py",
   "mimetype": "text/x-python",
   "name": "python",
   "nbconvert_exporter": "python",
   "pygments_lexer": "ipython3",
   "version": "3.6.3"
  }
 },
 "nbformat": 4,
 "nbformat_minor": 2
}
